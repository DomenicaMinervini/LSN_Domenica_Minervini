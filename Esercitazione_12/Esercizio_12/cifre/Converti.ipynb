{
 "cells": [
  {
   "cell_type": "markdown",
   "id": "a6812809",
   "metadata": {},
   "source": [
    "### Converti da jpeg a png"
   ]
  },
  {
   "cell_type": "code",
   "execution_count": 1,
   "id": "f501865c",
   "metadata": {},
   "outputs": [
    {
     "name": "stdout",
     "output_type": "stream",
     "text": [
      "Arance.jpg è stato convertito con successo in Arance.png.\n"
     ]
    }
   ],
   "source": [
    "from PIL import Image\n",
    "import os\n",
    "\n",
    "# Carica l'immagine JPEG\n",
    "jpeg_image_path = \"Arance.jpg\"\n",
    "image = Image.open(jpeg_image_path)\n",
    "\n",
    "# Converti l'immagine in formato PNG\n",
    "png_image_path = os.path.splitext(jpeg_image_path)[0] + \".png\"\n",
    "image.save(png_image_path, format=\"PNG\")\n",
    "\n",
    "# Stampa un messaggio di successo\n",
    "print(f\"{jpeg_image_path} è stato convertito con successo in {png_image_path}.\")"
   ]
  },
  {
   "cell_type": "code",
   "execution_count": null,
   "id": "095b8409",
   "metadata": {},
   "outputs": [],
   "source": []
  }
 ],
 "metadata": {
  "kernelspec": {
   "display_name": "Python 3 (ipykernel)",
   "language": "python",
   "name": "python3"
  },
  "language_info": {
   "codemirror_mode": {
    "name": "ipython",
    "version": 3
   },
   "file_extension": ".py",
   "mimetype": "text/x-python",
   "name": "python",
   "nbconvert_exporter": "python",
   "pygments_lexer": "ipython3",
   "version": "3.9.12"
  }
 },
 "nbformat": 4,
 "nbformat_minor": 5
}
