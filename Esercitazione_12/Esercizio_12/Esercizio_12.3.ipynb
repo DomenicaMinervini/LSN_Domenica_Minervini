{
 "cells": [
  {
   "cell_type": "markdown",
   "id": "0ce80a54",
   "metadata": {},
   "source": [
    "# <span style=\"color:green\"> ESERCITAZIONE 12 </span>"
   ]
  },
  {
   "cell_type": "markdown",
   "id": "4d1b878c",
   "metadata": {},
   "source": [
    "### <span style=\"color:blue\">  Esercizio 12.3 </span> \n",
    "<span style=\"color:blue\"> Usa l'applicazione Gimp per disegnare a mano $10$ cifre, con il mouse o con il touchpad, importale su questo jupyter-notebook e verifica che la rete neurale convoluzionale dell'esercizio precedente sia capace di riconoscere queste $10$ cifre scritte a mano da te. </span> "
   ]
  },
  {
   "cell_type": "markdown",
   "id": "6a0c595b",
   "metadata": {},
   "source": [
    "### Consigli sull'uso di GIMP"
   ]
  },
  {
   "cell_type": "markdown",
   "id": "4787c656",
   "metadata": {},
   "source": [
    "Prima di poter procedere con il riconoscimento delle cifre, le immagini devono essere prodotte e salvate nella maniera corretta, in modo che la rete neurale sia capace di interpretarle. Ecco i passaggi da seguire usando l'editor di immagini GIMP.\n",
    "\n",
    "1. **Disegna l'immagine**.\n",
    "\n",
    "Una volta aperto GIMP e aver cliccato sulla barra in alto *file* e dopo su *nuova*, GIMP ti chiede le dimensioni dell'immagine. L'unità di misura impostata è in pixel, quella che vogliamo. All'inizio scegli un **formato grande**, del tipo $400\\times 400$, in modo da aver una tela abbastanza grande per disegnare. E' di fondamentale importanza  impostare la **tela** in modo che sia **un quadrato**! Questo perché quando dovrai riscalare l'immagine ad un quadratino $28\\times 28$ pixel, GIMP mantiene le proporzioni iniziali. Non è possibile riscalare un solo lato: GIMP li riscala entrambi mantendendo le proporzioni iniziali dell'immagine. \n",
    "\n",
    "2. **Inverti i colori**.\n",
    "\n",
    "La tela offerta da GIMP è bianca ed è corretto disegnare la cifra con il pennello nero. La nostra rete neurale però riconosce le immagini **bianche su sfondo nero**. Quindi una volta disegnata l'immagine, vai sulla barra in alto, clicca su *colori*, clicca su *inverti*. Ora hai una cifra bianca su sfondo nero. \n",
    "\n",
    "3. **Scala l'immagine**.\n",
    "\n",
    "Hai disegnato l'immagine su una tela di dimensioni $n\\times n$, con $n=400, 500$... Poiché la nostra rete neurale riconosce **cifre di dimensioni** $28\\times 28$ pixel, l'immagine va **riscalata**. Vai sulla barra in alto, clicca su *immagine*, cliccca su *scala immagine*. Si apre una tabella che dice *dimensione immagine*. A noi interessano le prime due righe, *larghezza* e *altezza* e appaiono le dimensioni iniziali della tela. Cancella i valori che ci sono e scrivi **28** in entrambe le righe. A dire il vero, basta scriverlo solo da una parte perché, essendo mantenute le proporzioni iniziali, se la tela iniziale è un quadrato, GIMP mette in automatico il secondo valore uguale al primo e non si può fare altrimenti. Come unità di misura lascia **px**, ossia pixel e salva. Si ottiene un'immagine piccolissima.\n",
    "\n",
    "4. **Esporta come png**.\n",
    "\n",
    "A questo punto puoi salvare l'immagine. Vai sulla barra in alto e clicca su *file*. Verrebbe spontaneo cliccare sulle voci salva oppure salva come. Se selezioni una di queste opzioni, GIMP imposta come formato dell'immagine .xcf, che non solo presenta dei problemi in fase di apertura, ma non è proprio riconosciuto dalla rete neurale, che vuole **come estensione il formato .png**. Se rinomini l'estensione da .xcf a .png, GIMP ti dice che questa operazione è impossibile e ti suggerisce l'opzione esporta come. Allora ricominciamo. Vai sulla barra in alto, clicca su *file*, clicca su *esporta come*. A questo punto puoi chiamare il file *nomefile.png*, ad esempio 1.png, e poi clicca su *esporta*. Dopo ti appare una tabella con delle preferenze, alcune già scelte da GIMP: mantienile ed esporta.\n",
    "\n",
    "Svolgi questo procedimento per tutte le cifre da $0$ a $9$. Ora hai le immagini per testare la rete neurale con le cifre scritte a mano da te!"
   ]
  },
  {
   "cell_type": "markdown",
   "id": "f541806e",
   "metadata": {},
   "source": [
    "### Rete neurale convoluzionale"
   ]
  },
  {
   "cell_type": "markdown",
   "id": "bcbb63fe",
   "metadata": {},
   "source": [
    "Riporto integralmente la rete neurale scritta per l'esercizio precedente, aggiungendo uno specchietto per poter caricare le $10$ cifre scritte a mano da me."
   ]
  },
  {
   "cell_type": "code",
   "execution_count": 1,
   "id": "11962804",
   "metadata": {},
   "outputs": [
    {
     "name": "stderr",
     "output_type": "stream",
     "text": [
      "2024-06-24 15:49:01.165189: I tensorflow/core/platform/cpu_feature_guard.cc:193] This TensorFlow binary is optimized with oneAPI Deep Neural Network Library (oneDNN) to use the following CPU instructions in performance-critical operations:  SSE4.1 SSE4.2 AVX AVX2 FMA\n",
      "To enable them in other operations, rebuild TensorFlow with the appropriate compiler flags.\n"
     ]
    }
   ],
   "source": [
    "#Richiamo le librerie.\n",
    "import tensorflow as tf\n",
    "from tensorflow import keras\n",
    "import os\n",
    "import numpy as np\n",
    "import matplotlib.pyplot as plt\n",
    "\n",
    "seed=0\n",
    "np.random.seed(seed) # fix random seed\n",
    "tf.random.set_seed(seed)"
   ]
  },
  {
   "cell_type": "code",
   "execution_count": 2,
   "id": "f3d2e5db",
   "metadata": {},
   "outputs": [
    {
     "name": "stdout",
     "output_type": "stream",
     "text": [
      "X_train shape: (60000, 28, 28)\n",
      "Y_train shape: (60000,)\n",
      "X_test shape: (10000, 28, 28)\n",
      "Y_test shape: (10000,)\n"
     ]
    }
   ],
   "source": [
    "#Step 1. Carico il dataset dal mnist.\n",
    "from keras.datasets import mnist\n",
    "\n",
    "# input image dimensions\n",
    "img_rows, img_cols = 28, 28 # number of pixels \n",
    "# output\n",
    "num_classes = 10 # 10 digits\n",
    "\n",
    "# the data, split between train and test sets\n",
    "(X_train, Y_train), (X_test, Y_test) = mnist.load_data()\n",
    "\n",
    "# print train and test data shape\n",
    "print('X_train shape:', X_train.shape)\n",
    "print('Y_train shape:', Y_train.shape)\n",
    "print('X_test shape:', X_test.shape)\n",
    "print('Y_test shape:', Y_test.shape)"
   ]
  },
  {
   "cell_type": "code",
   "execution_count": 3,
   "id": "c7f86e98",
   "metadata": {},
   "outputs": [],
   "source": [
    "# reshape data, depending on Keras backend\n",
    "if keras.backend.image_data_format() == 'channels_first':\n",
    "    X_train = X_train.reshape(X_train.shape[0], 1, img_rows, img_cols)\n",
    "    X_test = X_test.reshape(X_test.shape[0], 1, img_rows, img_cols)\n",
    "    input_shape = (1, img_rows, img_cols)\n",
    "else:\n",
    "    X_train = X_train.reshape(X_train.shape[0], img_rows, img_cols, 1)\n",
    "    X_test = X_test.reshape(X_test.shape[0], img_rows, img_cols, 1)\n",
    "    input_shape = (img_rows, img_cols, 1)\n"
   ]
  },
  {
   "cell_type": "code",
   "execution_count": 4,
   "id": "dda6a3f0",
   "metadata": {},
   "outputs": [
    {
     "name": "stdout",
     "output_type": "stream",
     "text": [
      "Prima di to categorical:\n",
      "X_train shape: (60000, 28, 28, 1)\n",
      "Y_train shape: (60000,)\n",
      "\n",
      "60000 train samples\n",
      "10000 test samples\n"
     ]
    }
   ],
   "source": [
    "print('Prima di to categorical:')\n",
    "print('X_train shape:', X_train.shape)\n",
    "print('Y_train shape:', Y_train.shape)\n",
    "print()\n",
    "print(X_train.shape[0], 'train samples')\n",
    "print(X_test.shape[0], 'test samples')"
   ]
  },
  {
   "cell_type": "code",
   "execution_count": 5,
   "id": "67b314c8",
   "metadata": {},
   "outputs": [],
   "source": [
    "# cast to floats\n",
    "X_train = X_train.astype('float32')\n",
    "X_test = X_test.astype('float32')\n",
    "\n",
    "# rescale data in interval [0,1]\n",
    "X_train /= 255\n",
    "X_test /= 255\n",
    "\n",
    "# convert class vectors to binary class matrices, e.g. for use with categorical_crossentropy\n",
    "Y_train = keras.utils.to_categorical(Y_train, num_classes)\n",
    "Y_test = keras.utils.to_categorical(Y_test, num_classes)"
   ]
  },
  {
   "cell_type": "code",
   "execution_count": 6,
   "id": "a8acc6cc",
   "metadata": {},
   "outputs": [
    {
     "name": "stdout",
     "output_type": "stream",
     "text": [
      "Dopo di to categorical:\n",
      "X_train shape: (60000, 28, 28, 1)\n",
      "Y_train shape: (60000, 10)\n",
      "\n",
      "60000 train samples\n",
      "10000 test samples\n"
     ]
    }
   ],
   "source": [
    "print('Dopo di to categorical:')\n",
    "print('X_train shape:', X_train.shape)\n",
    "print('Y_train shape:', Y_train.shape)\n",
    "print()\n",
    "print(X_train.shape[0], 'train samples')\n",
    "print(X_test.shape[0], 'test samples')"
   ]
  },
  {
   "cell_type": "code",
   "execution_count": 7,
   "id": "d1ae88f4",
   "metadata": {},
   "outputs": [],
   "source": [
    "#Step 2. Definisco la rete neurale.\n",
    "from keras.models import Sequential\n",
    "from keras.layers import Dense, Dropout\n",
    "# you will need the following for Convolutional Neural Networks\n",
    "from keras.layers import Flatten, Conv2D, MaxPooling2D"
   ]
  },
  {
   "cell_type": "code",
   "execution_count": 8,
   "id": "e59a43a0",
   "metadata": {},
   "outputs": [
    {
     "name": "stdout",
     "output_type": "stream",
     "text": [
      "Model architecture created successfully!\n"
     ]
    }
   ],
   "source": [
    "def create_CDNN():\n",
    "    #Inizializza il modello.\n",
    "    model = Sequential() \n",
    "    #Definisco la rete neurale convoluzionale 2D. Il primo layer ha 10 filtri.\n",
    "    #Trattandosi del primo layer, devo dire qual è la funzione di attivazione e la forma dei dati di input.\n",
    "    model.add(Conv2D(10, kernel_size=(5,5), activation='relu', input_shape=input_shape))   \n",
    "    #Aggiungo un secondo layer convoluzionale con 90 filtri.\n",
    "    model.add(Conv2D(90, kernel_size=(5,5), activation='relu'))   \n",
    "    #Agguingo la funzione Dropout: durante la fase di training si spengono a caso e a turno\n",
    "    #la metà dei neuroni (0.5), in modo da complicare l'apprendimento. Il modello sarà robusto.\n",
    "    model.add(Dropout(0.5))\n",
    "    #Dico che il modo di sintetizzare l'informazione sui filtri è il max pooling.\n",
    "    model.add(MaxPooling2D(pool_size=(2,2)))\n",
    "    #Rendo l'informazione di input da 2D a 1D.\n",
    "    model.add(Flatten())\n",
    "    #Aggiungo un layer di 25 neuroni.\n",
    "    model.add(Dense(25, activation='relu'))\n",
    "    #Aggiungo l'ultimo layer di neuroni, con funzione di attivazione softmax, per le probabilità.\n",
    "    model.add(Dense(num_classes, activation='softmax'))\n",
    "    \n",
    "    return model\n",
    "\n",
    "print('Model architecture created successfully!')"
   ]
  },
  {
   "cell_type": "code",
   "execution_count": 9,
   "id": "bfc0bf4e",
   "metadata": {},
   "outputs": [
    {
     "name": "stdout",
     "output_type": "stream",
     "text": [
      "Model compiled successfully and ready to be trained.\n"
     ]
    }
   ],
   "source": [
    "#Step 3. Scelgo l'ottimizzatore e la funzione costo e compilo il modello.\n",
    "from keras.optimizers import SGD, Adam, RMSprop, Adagrad, Adadelta, Adamax, Nadam\n",
    "\n",
    "def compile_model():\n",
    "    # create the model\n",
    "    model=create_CDNN()\n",
    "    # compile the model\n",
    "    model.compile(loss=keras.losses.categorical_crossentropy,\n",
    "                  optimizer=SGD(),\n",
    "                  metrics=['acc'])\n",
    "    return model\n",
    "\n",
    "print('Model compiled successfully and ready to be trained.')"
   ]
  },
  {
   "cell_type": "code",
   "execution_count": 10,
   "id": "944632ed",
   "metadata": {},
   "outputs": [
    {
     "name": "stderr",
     "output_type": "stream",
     "text": [
      "2024-06-24 15:50:22.645644: I tensorflow/core/platform/cpu_feature_guard.cc:193] This TensorFlow binary is optimized with oneAPI Deep Neural Network Library (oneDNN) to use the following CPU instructions in performance-critical operations:  SSE4.1 SSE4.2 AVX AVX2 FMA\n",
      "To enable them in other operations, rebuild TensorFlow with the appropriate compiler flags.\n",
      "2024-06-24 15:50:22.681181: I tensorflow/core/common_runtime/process_util.cc:146] Creating new thread pool with default inter op setting: 2. Tune using inter_op_parallelism_threads for best performance.\n"
     ]
    },
    {
     "name": "stdout",
     "output_type": "stream",
     "text": [
      "Epoch 1/10\n",
      "1875/1875 [==============================] - 105s 56ms/step - loss: 0.3315 - acc: 0.9019 - val_loss: 0.1733 - val_acc: 0.9668\n",
      "Epoch 2/10\n",
      "1875/1875 [==============================] - 98s 52ms/step - loss: 0.1020 - acc: 0.9696 - val_loss: 0.1017 - val_acc: 0.9779\n",
      "Epoch 3/10\n",
      "1875/1875 [==============================] - 102s 54ms/step - loss: 0.0739 - acc: 0.9776 - val_loss: 0.0800 - val_acc: 0.9820\n",
      "Epoch 4/10\n",
      "1875/1875 [==============================] - 99s 53ms/step - loss: 0.0603 - acc: 0.9816 - val_loss: 0.0739 - val_acc: 0.9821\n",
      "Epoch 5/10\n",
      "1875/1875 [==============================] - 126s 67ms/step - loss: 0.0519 - acc: 0.9841 - val_loss: 0.0640 - val_acc: 0.9848\n",
      "Epoch 6/10\n",
      "1875/1875 [==============================] - 117s 63ms/step - loss: 0.0453 - acc: 0.9860 - val_loss: 0.0563 - val_acc: 0.9871\n",
      "Epoch 7/10\n",
      "1875/1875 [==============================] - 98s 52ms/step - loss: 0.0394 - acc: 0.9882 - val_loss: 0.0500 - val_acc: 0.9885\n",
      "Epoch 8/10\n",
      "1875/1875 [==============================] - 92s 49ms/step - loss: 0.0363 - acc: 0.9886 - val_loss: 0.0469 - val_acc: 0.9865\n",
      "Epoch 9/10\n",
      "1875/1875 [==============================] - 98s 52ms/step - loss: 0.0331 - acc: 0.9896 - val_loss: 0.0456 - val_acc: 0.9887\n",
      "Epoch 10/10\n",
      "1875/1875 [==============================] - 115s 61ms/step - loss: 0.0297 - acc: 0.9906 - val_loss: 0.0417 - val_acc: 0.9880\n"
     ]
    }
   ],
   "source": [
    "#Step 4. Alleno il modello.\n",
    "#Attenzione: il training di un'epoca dura circa due minuti.\n",
    "#Per questo scelgo di eseguirlo solo per 10 epoche. \n",
    "#Ho provato con 2 epoche e l'accuratezza era del 97%.\n",
    "#Andava già bene, quindi adesso può fare meglio.\n",
    "\n",
    "# training parameters\n",
    "batch_size = 32\n",
    "epochs = 10\n",
    "\n",
    "# create the deep neural net\n",
    "model_CDNN = compile_model()\n",
    "\n",
    "# train DNN and store training info in history\n",
    "history = model_CDNN.fit(X_train, Y_train,\n",
    "          batch_size=batch_size,\n",
    "          epochs=epochs,\n",
    "          verbose=1,\n",
    "          validation_data=(X_test, Y_test))"
   ]
  },
  {
   "cell_type": "code",
   "execution_count": 11,
   "id": "1c725eca",
   "metadata": {},
   "outputs": [
    {
     "name": "stdout",
     "output_type": "stream",
     "text": [
      "313/313 [==============================] - 5s 17ms/step - loss: 0.0417 - acc: 0.9880\n",
      "\n",
      "Test loss: 0.04166484996676445\n",
      "Test accuracy: 0.9879999756813049\n"
     ]
    },
    {
     "data": {
      "image/png": "[encoded data removed]",
      "text/plain": [
       "<Figure size 640x480 with 1 Axes>"
      ]
     },
     "metadata": {},
     "output_type": "display_data"
    },
    {
     "data": {
      "image/png": "[encoded data removed]",
      "text/plain": [
       "<Figure size 640x480 with 1 Axes>"
      ]
     },
     "metadata": {},
     "output_type": "display_data"
    }
   ],
   "source": [
    "#Step 5. Valuto le performance del modello.\n",
    "# evaluate model\n",
    "score = model_CDNN.evaluate(X_test, Y_test, verbose=1)\n",
    "\n",
    "# print performance\n",
    "print()\n",
    "print('Test loss:', score[0])\n",
    "print('Test accuracy:', score[1])\n",
    "\n",
    "# look into training history\n",
    "\n",
    "# summarize history for accuracy\n",
    "plt.plot(history.history['acc'])\n",
    "plt.plot(history.history['val_acc'])\n",
    "plt.ylabel('model accuracy')\n",
    "plt.xlabel('epoch')\n",
    "plt.legend(['train', 'test'], loc='best')\n",
    "plt.show()\n",
    "\n",
    "# summarize history for loss\n",
    "plt.plot(history.history['loss'])\n",
    "plt.plot(history.history['val_loss'])\n",
    "plt.ylabel('model loss')\n",
    "plt.xlabel('epoch')\n",
    "plt.legend(['train', 'test'], loc='best')\n",
    "plt.show()"
   ]
  },
  {
   "cell_type": "markdown",
   "id": "87aa3a45",
   "metadata": {},
   "source": [
    "### Specchietto per caricare tutte le cifre"
   ]
  },
  {
   "cell_type": "code",
   "execution_count": 12,
   "id": "134b3084",
   "metadata": {},
   "outputs": [
    {
     "name": "stdout",
     "output_type": "stream",
     "text": [
      "Image size: 28x28\n",
      "Image size: 28x28\n",
      "Image size: 28x28\n",
      "Image size: 28x28\n",
      "Image size: 28x28\n",
      "Image size: 28x28\n",
      "Image size: 28x28\n",
      "Image size: 28x28\n",
      "Image size: 28x28\n",
      "Image size: 28x28\n"
     ]
    }
   ],
   "source": [
    "from PIL import Image\n",
    "import os\n",
    "\n",
    "#digit_filename = \"cifre/1.png\"\n",
    "#Carico nel vettore digit_filename tutte le cifre.\n",
    "digit_filename = [ \"cifre/0.png\", \"cifre/1.png\", \"cifre/2.png\", \n",
    "                   \"cifre/3.png\", \"cifre/4.png\", \"cifre/5.png\",\n",
    "                   \"cifre/6.png\", \"cifre/7.png\", \"cifre/8.png\",\n",
    "                   \"cifre/9.png\" ] \n",
    "\n",
    "img = [] #Vettore con le immagini con formato modificato, \n",
    "         #adatto al riconoscimento, a partire da digit_filename.\n",
    "\n",
    "#Per ciascuno degli elementi in digit_filename, applico il processo di modifica del formato.\n",
    "for digit in digit_filename:\n",
    "    digit_in = Image.open(digit).convert('L')\n",
    "\n",
    "    ydim, xdim = digit_in.size\n",
    "    print(\"Image size: \"+str(xdim)+\"x\"+str(ydim))\n",
    "    \n",
    "    pix=digit_in.load();\n",
    "    data = np.zeros((xdim, ydim))\n",
    "    \n",
    "    for j in range(ydim):\n",
    "        for i in range(xdim):\n",
    "            data[i,j]=pix[j,i]/255\n",
    "    img.append(data)\n"
   ]
  },
  {
   "cell_type": "code",
   "execution_count": 13,
   "id": "d257154b",
   "metadata": {},
   "outputs": [
    {
     "data": {
      "image/png": "[encoded data removed]",
      "text/plain": [
       "<Figure size 500x500 with 1 Axes>"
      ]
     },
     "metadata": {},
     "output_type": "display_data"
    },
    {
     "name": "stdout",
     "output_type": "stream",
     "text": [
      "(28, 28)\n"
     ]
    }
   ],
   "source": [
    "#Mostro ad esempio la figura numero 8.\n",
    "#print(data.shape)\n",
    "plt.figure(figsize=(5,5))\n",
    "plt.imshow(img[8], cmap='gray')\n",
    "plt.show()\n",
    "print(img[8].shape)"
   ]
  },
  {
   "cell_type": "code",
   "execution_count": 14,
   "id": "5b84309e",
   "metadata": {},
   "outputs": [
    {
     "name": "stdout",
     "output_type": "stream",
     "text": [
      "1/1 [==============================] - 0s 74ms/step\n",
      "1/1 [==============================] - 0s 26ms/step\n",
      "1/1 [==============================] - 0s 65ms/step\n",
      "1/1 [==============================] - 0s 25ms/step\n",
      "1/1 [==============================] - 0s 26ms/step\n",
      "1/1 [==============================] - 0s 18ms/step\n",
      "1/1 [==============================] - 0s 31ms/step\n",
      "1/1 [==============================] - 0s 41ms/step\n",
      "1/1 [==============================] - 0s 17ms/step\n",
      "1/1 [==============================] - 0s 20ms/step\n"
     ]
    }
   ],
   "source": [
    "#Step 6. Ora che il modello è pronto, genero nuovi punti applicandolo.\n",
    "#Le X sono le cifre scritte a mano da me, le Y sono le etichette che la rete dovrà indovinare.\n",
    "#Vettore con le predizioni.\n",
    "#Prima lo inizializzo con tutti 0, poi inserisco le predizioni del modello. \n",
    "predictions = [0,0,0,0,0,0,0,0,0,0]\n",
    "\n",
    "for i in range(0,10):\n",
    "    img[i] = img[i].reshape(1, xdim, ydim, 1)\n",
    "    predictions[i] = model_CDNN.predict(img[i])\n",
    "    img[i] = img[i].reshape(xdim,ydim)\n"
   ]
  },
  {
   "cell_type": "code",
   "execution_count": 18,
   "id": "e5b5df1e",
   "metadata": {},
   "outputs": [
    {
     "data": {
      "image/png": "[encoded data removed]",
      "text/plain": [
       "<Figure size 1500x500 with 10 Axes>"
      ]
     },
     "metadata": {},
     "output_type": "display_data"
    }
   ],
   "source": [
    "#Faccio il grafico delle cifre.\n",
    "plt.figure(figsize=(15, 5))\n",
    "\n",
    "for i in range(10):    \n",
    "    ax = plt.subplot(1, 10, i + 1)    \n",
    "    plt.imshow(img[i], cmap='gray')    \n",
    "    #plt.title(\"Digit: {}\\nPredicted:    {}\".format(np.argmax(Y_test[i]), np.argmax(predictions[i]))) \n",
    "    plt.title(\"Predicted:    {}\".format(np.argmax(predictions[i])))    \n",
    "    plt.axis('off') \n",
    "\n",
    "plt.show()"
   ]
  },
  {
   "cell_type": "markdown",
   "id": "0f79f5a8",
   "metadata": {},
   "source": [
    "### Osservazioni"
   ]
  },
  {
   "cell_type": "markdown",
   "id": "11aa3d8d",
   "metadata": {},
   "source": [
    "Ho usato lo stesso modello dell'esercizio precedente, riaddestrando la rete neurale. Le performance e l'accuratezza sono le stesse. La volta scorsa la rete ha riconosciuto tutte le $20$ cifre proposte, mentre in questo caso ne ha sbagiate due. Ha preso il $4$ per un $8$, forse perché l'ho scritto con la barra centrale tutta intera e quindi assomiglia a un $8$. Ha preso il $9$ per un $3$, forse perché un po' ci assomiglia. Complessivamente, la rete neurale riconosce bene le cifre."
   ]
  }
 ],
 "metadata": {
  "kernelspec": {
   "display_name": "Python 3 (ipykernel)",
   "language": "python",
   "name": "python3"
  },
  "language_info": {
   "codemirror_mode": {
    "name": "ipython",
    "version": 3
   },
   "file_extension": ".py",
   "mimetype": "text/x-python",
   "name": "python",
   "nbconvert_exporter": "python",
   "pygments_lexer": "ipython3",
   "version": "3.9.12"
  }
 },
 "nbformat": 4,
 "nbformat_minor": 5
}
